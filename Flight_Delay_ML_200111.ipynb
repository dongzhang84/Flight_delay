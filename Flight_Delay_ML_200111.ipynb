{
 "cells": [
  {
   "cell_type": "markdown",
   "metadata": {},
   "source": [
    "# Flight Delay Analysis and Prediction\n",
    "\n",
    "\n",
    "## By Dong Zhang\n",
    "\n",
    "\n",
    "## Introduction\n",
    "\n",
    "Most people have flight delay experiences. Sometimes flight delays (including cancellations) can be a really big issue, especially for business trips or emergency flights. Flight delays are caused by various reasons, also depend on flight companies and airports. In this project, I try to classify and predict flight delays using machine learning techniques. I use the data of flight delays downloaded from the Bureau of Transportation Statistics. More data are required for better prediction.  \n",
    "\n",
    "### Data \n",
    "\n",
    "The dataset is from the Bureau of Transportation Statistics:\n",
    "https://www.transtats.bts.gov/OT_Delay/OT_DelayCause1.asp?pn=1\n",
    "\n",
    "Data is collected between June, 2003 to Feb, 2019, from all airports and airlines in the US. Flight delays can be caused by different reasons, including Air Carrier Delay, Weather Delay, National Aviation System (NAS) Delay, Security Delay, Aircraft Arriving Delay, Cancellation and Diverted. The definitions of the variety of delays can be see here:\n",
    "https://www.bts.dot.gov/explore-topics-and-geography/topics/airline-time-performance-and-causes-flight-delays\n",
    "\n",
    "Each row of the data shows the number of total flights, the number of each type of delays, and the duration (in minutes) of each delay for an individual flight airline in an individual airports in one month. So this is not the raw data, but we can still learning much information from the data. Eventually, my goal is to predict the probability and waiting time of each delay cause. For this project, I take American Airline and Atlanta Airport (ATL) for case studies, compare them with the overall flight performance in the US. Then given the parameter set of year and month, I predict flight delays for AA/ATL. \n",
    "\n",
    "Other data includes the longitudes and latitudes of airports in the US (airport.csv). In future I will collect more data including not only the information by years and months, but also dates and hours. More data can be collected here:\n",
    "https://transtats.bts.gov/ONTIME/Departures.aspx\n",
    "\n",
    "In current stages, the data already shows many interesting results. "
   ]
  },
  {
   "cell_type": "markdown",
   "metadata": {},
   "source": [
    "\n",
    "## Part 1: Data Loading and Cleaning\n"
   ]
  },
  {
   "cell_type": "code",
   "execution_count": 1,
   "metadata": {
    "collapsed": false
   },
   "outputs": [
    {
     "name": "stdout",
     "output_type": "stream",
     "text": [
      "(256285, 21)\n"
     ]
    },
    {
     "data": {
      "text/html": [
       "<div>\n",
       "<style scoped>\n",
       "    .dataframe tbody tr th:only-of-type {\n",
       "        vertical-align: middle;\n",
       "    }\n",
       "\n",
       "    .dataframe tbody tr th {\n",
       "        vertical-align: top;\n",
       "    }\n",
       "\n",
       "    .dataframe thead th {\n",
       "        text-align: right;\n",
       "    }\n",
       "</style>\n",
       "<table border=\"1\" class=\"dataframe\">\n",
       "  <thead>\n",
       "    <tr style=\"text-align: right;\">\n",
       "      <th></th>\n",
       "      <th>year</th>\n",
       "      <th>month</th>\n",
       "      <th>carrier</th>\n",
       "      <th>carrier_name</th>\n",
       "      <th>airport</th>\n",
       "      <th>airport_name</th>\n",
       "      <th>arr_flights</th>\n",
       "      <th>arr_del15</th>\n",
       "      <th>carrier_ct</th>\n",
       "      <th>weather_ct</th>\n",
       "      <th>nas_ct</th>\n",
       "      <th>security_ct</th>\n",
       "      <th>late_aircraft_ct</th>\n",
       "      <th>arr_cancelled</th>\n",
       "      <th>arr_diverted</th>\n",
       "      <th>arr_delay</th>\n",
       "      <th>carrier_delay</th>\n",
       "      <th>weather_delay</th>\n",
       "      <th>nas_delay</th>\n",
       "      <th>security_delay</th>\n",
       "      <th>late_aircraft_delay</th>\n",
       "    </tr>\n",
       "  </thead>\n",
       "  <tbody>\n",
       "    <tr>\n",
       "      <th>0</th>\n",
       "      <td>2003</td>\n",
       "      <td>6</td>\n",
       "      <td>AA</td>\n",
       "      <td>American Airlines Inc.</td>\n",
       "      <td>ABQ</td>\n",
       "      <td>Albuquerque, NM: Albuquerque International Sun...</td>\n",
       "      <td>307.0</td>\n",
       "      <td>56.0</td>\n",
       "      <td>14.68</td>\n",
       "      <td>10.79</td>\n",
       "      <td>19.09</td>\n",
       "      <td>1.48</td>\n",
       "      <td>9.96</td>\n",
       "      <td>1.0</td>\n",
       "      <td>1.0</td>\n",
       "      <td>2530.0</td>\n",
       "      <td>510.0</td>\n",
       "      <td>621.0</td>\n",
       "      <td>676.0</td>\n",
       "      <td>25.0</td>\n",
       "      <td>698.0</td>\n",
       "    </tr>\n",
       "    <tr>\n",
       "      <th>1</th>\n",
       "      <td>2003</td>\n",
       "      <td>6</td>\n",
       "      <td>AA</td>\n",
       "      <td>American Airlines Inc.</td>\n",
       "      <td>ANC</td>\n",
       "      <td>Anchorage, AK: Ted Stevens Anchorage Internati...</td>\n",
       "      <td>90.0</td>\n",
       "      <td>27.0</td>\n",
       "      <td>7.09</td>\n",
       "      <td>2.00</td>\n",
       "      <td>10.75</td>\n",
       "      <td>0.00</td>\n",
       "      <td>7.16</td>\n",
       "      <td>0.0</td>\n",
       "      <td>0.0</td>\n",
       "      <td>1390.0</td>\n",
       "      <td>271.0</td>\n",
       "      <td>83.0</td>\n",
       "      <td>581.0</td>\n",
       "      <td>0.0</td>\n",
       "      <td>455.0</td>\n",
       "    </tr>\n",
       "    <tr>\n",
       "      <th>2</th>\n",
       "      <td>2003</td>\n",
       "      <td>6</td>\n",
       "      <td>AA</td>\n",
       "      <td>American Airlines Inc.</td>\n",
       "      <td>ATL</td>\n",
       "      <td>Atlanta, GA: Hartsfield-Jackson Atlanta Intern...</td>\n",
       "      <td>752.0</td>\n",
       "      <td>186.0</td>\n",
       "      <td>33.99</td>\n",
       "      <td>27.82</td>\n",
       "      <td>104.76</td>\n",
       "      <td>1.90</td>\n",
       "      <td>17.53</td>\n",
       "      <td>5.0</td>\n",
       "      <td>0.0</td>\n",
       "      <td>8314.0</td>\n",
       "      <td>1367.0</td>\n",
       "      <td>1722.0</td>\n",
       "      <td>3817.0</td>\n",
       "      <td>139.0</td>\n",
       "      <td>1269.0</td>\n",
       "    </tr>\n",
       "    <tr>\n",
       "      <th>3</th>\n",
       "      <td>2003</td>\n",
       "      <td>6</td>\n",
       "      <td>AA</td>\n",
       "      <td>American Airlines Inc.</td>\n",
       "      <td>AUS</td>\n",
       "      <td>Austin, TX: Austin - Bergstrom International</td>\n",
       "      <td>842.0</td>\n",
       "      <td>174.0</td>\n",
       "      <td>60.24</td>\n",
       "      <td>20.54</td>\n",
       "      <td>47.78</td>\n",
       "      <td>4.69</td>\n",
       "      <td>40.75</td>\n",
       "      <td>9.0</td>\n",
       "      <td>1.0</td>\n",
       "      <td>8344.0</td>\n",
       "      <td>3040.0</td>\n",
       "      <td>1032.0</td>\n",
       "      <td>1835.0</td>\n",
       "      <td>115.0</td>\n",
       "      <td>2322.0</td>\n",
       "    </tr>\n",
       "    <tr>\n",
       "      <th>4</th>\n",
       "      <td>2003</td>\n",
       "      <td>6</td>\n",
       "      <td>AA</td>\n",
       "      <td>American Airlines Inc.</td>\n",
       "      <td>BDL</td>\n",
       "      <td>Hartford, CT: Bradley International</td>\n",
       "      <td>383.0</td>\n",
       "      <td>55.0</td>\n",
       "      <td>14.90</td>\n",
       "      <td>8.91</td>\n",
       "      <td>14.57</td>\n",
       "      <td>0.00</td>\n",
       "      <td>16.61</td>\n",
       "      <td>0.0</td>\n",
       "      <td>0.0</td>\n",
       "      <td>3137.0</td>\n",
       "      <td>815.0</td>\n",
       "      <td>574.0</td>\n",
       "      <td>555.0</td>\n",
       "      <td>0.0</td>\n",
       "      <td>1193.0</td>\n",
       "    </tr>\n",
       "  </tbody>\n",
       "</table>\n",
       "</div>"
      ],
      "text/plain": [
       "   year  month carrier            carrier_name airport  \\\n",
       "0  2003      6      AA  American Airlines Inc.     ABQ   \n",
       "1  2003      6      AA  American Airlines Inc.     ANC   \n",
       "2  2003      6      AA  American Airlines Inc.     ATL   \n",
       "3  2003      6      AA  American Airlines Inc.     AUS   \n",
       "4  2003      6      AA  American Airlines Inc.     BDL   \n",
       "\n",
       "                                        airport_name  arr_flights  arr_del15  \\\n",
       "0  Albuquerque, NM: Albuquerque International Sun...        307.0       56.0   \n",
       "1  Anchorage, AK: Ted Stevens Anchorage Internati...         90.0       27.0   \n",
       "2  Atlanta, GA: Hartsfield-Jackson Atlanta Intern...        752.0      186.0   \n",
       "3       Austin, TX: Austin - Bergstrom International        842.0      174.0   \n",
       "4                Hartford, CT: Bradley International        383.0       55.0   \n",
       "\n",
       "   carrier_ct  weather_ct  nas_ct  security_ct  late_aircraft_ct  \\\n",
       "0       14.68       10.79   19.09         1.48              9.96   \n",
       "1        7.09        2.00   10.75         0.00              7.16   \n",
       "2       33.99       27.82  104.76         1.90             17.53   \n",
       "3       60.24       20.54   47.78         4.69             40.75   \n",
       "4       14.90        8.91   14.57         0.00             16.61   \n",
       "\n",
       "   arr_cancelled  arr_diverted  arr_delay  carrier_delay  weather_delay  \\\n",
       "0            1.0           1.0     2530.0          510.0          621.0   \n",
       "1            0.0           0.0     1390.0          271.0           83.0   \n",
       "2            5.0           0.0     8314.0         1367.0         1722.0   \n",
       "3            9.0           1.0     8344.0         3040.0         1032.0   \n",
       "4            0.0           0.0     3137.0          815.0          574.0   \n",
       "\n",
       "   nas_delay  security_delay  late_aircraft_delay  \n",
       "0      676.0            25.0                698.0  \n",
       "1      581.0             0.0                455.0  \n",
       "2     3817.0           139.0               1269.0  \n",
       "3     1835.0           115.0               2322.0  \n",
       "4      555.0             0.0               1193.0  "
      ]
     },
     "execution_count": 1,
     "metadata": {},
     "output_type": "execute_result"
    }
   ],
   "source": [
    "import numpy as np\n",
    "import pandas as pd\n",
    "from pandas import Series, DataFrame\n",
    "import matplotlib.pyplot as plt\n",
    "import seaborn as sns\n",
    "\n",
    "import warnings\n",
    "warnings.filterwarnings(\"ignore\")\n",
    "\n",
    "pd.set_option('display.max_columns', None) \n",
    "\n",
    "data = pd.read_csv('airline_delay.csv')\n",
    "print(data.shape)\n",
    "data.head(5)"
   ]
  },
  {
   "cell_type": "code",
   "execution_count": 3,
   "metadata": {
    "collapsed": false
   },
   "outputs": [
    {
     "data": {
      "text/plain": [
       "year                     0\n",
       "month                    0\n",
       "carrier                  0\n",
       "carrier_name             0\n",
       "airport                  0\n",
       "airport_name             0\n",
       "arr_flights            362\n",
       "arr_del15              416\n",
       "carrier_ct             362\n",
       "weather_ct             362\n",
       "nas_ct                 362\n",
       "security_ct            362\n",
       "late_aircraft_ct       362\n",
       "arr_cancelled          362\n",
       "arr_diverted           362\n",
       "arr_delay              362\n",
       "carrier_delay          362\n",
       "weather_delay          362\n",
       "nas_delay              362\n",
       "security_delay         362\n",
       "late_aircraft_delay    362\n",
       "dtype: int64"
      ]
     },
     "execution_count": 3,
     "metadata": {},
     "output_type": "execute_result"
    }
   ],
   "source": [
    "data.isnull().sum()"
   ]
  },
  {
   "cell_type": "code",
   "execution_count": 4,
   "metadata": {
    "collapsed": true
   },
   "outputs": [],
   "source": [
    "data.dropna(inplace = True)"
   ]
  },
  {
   "cell_type": "code",
   "execution_count": 5,
   "metadata": {
    "collapsed": false
   },
   "outputs": [
    {
     "name": "stdout",
     "output_type": "stream",
     "text": [
      "(255869, 21)\n"
     ]
    },
    {
     "data": {
      "text/plain": [
       "year                   0\n",
       "month                  0\n",
       "carrier                0\n",
       "carrier_name           0\n",
       "airport                0\n",
       "airport_name           0\n",
       "arr_flights            0\n",
       "arr_del15              0\n",
       "carrier_ct             0\n",
       "weather_ct             0\n",
       "nas_ct                 0\n",
       "security_ct            0\n",
       "late_aircraft_ct       0\n",
       "arr_cancelled          0\n",
       "arr_diverted           0\n",
       "arr_delay              0\n",
       "carrier_delay          0\n",
       "weather_delay          0\n",
       "nas_delay              0\n",
       "security_delay         0\n",
       "late_aircraft_delay    0\n",
       "dtype: int64"
      ]
     },
     "execution_count": 5,
     "metadata": {},
     "output_type": "execute_result"
    }
   ],
   "source": [
    "print(data.shape)\n",
    "data.isnull().sum()"
   ]
  },
  {
   "cell_type": "code",
   "execution_count": 6,
   "metadata": {
    "collapsed": false
   },
   "outputs": [
    {
     "data": {
      "text/html": [
       "<div>\n",
       "<style scoped>\n",
       "    .dataframe tbody tr th:only-of-type {\n",
       "        vertical-align: middle;\n",
       "    }\n",
       "\n",
       "    .dataframe tbody tr th {\n",
       "        vertical-align: top;\n",
       "    }\n",
       "\n",
       "    .dataframe thead th {\n",
       "        text-align: right;\n",
       "    }\n",
       "</style>\n",
       "<table border=\"1\" class=\"dataframe\">\n",
       "  <thead>\n",
       "    <tr style=\"text-align: right;\">\n",
       "      <th></th>\n",
       "      <th>year</th>\n",
       "      <th>month</th>\n",
       "      <th>carrier</th>\n",
       "      <th>carrier_name</th>\n",
       "      <th>airport</th>\n",
       "      <th>airport_name</th>\n",
       "      <th>arr_flights</th>\n",
       "      <th>arr_del15</th>\n",
       "      <th>carrier_ct</th>\n",
       "      <th>weather_ct</th>\n",
       "      <th>nas_ct</th>\n",
       "      <th>security_ct</th>\n",
       "      <th>late_aircraft_ct</th>\n",
       "      <th>arr_cancelled</th>\n",
       "      <th>arr_diverted</th>\n",
       "      <th>arr_delay</th>\n",
       "      <th>carrier_delay</th>\n",
       "      <th>weather_delay</th>\n",
       "      <th>nas_delay</th>\n",
       "      <th>security_delay</th>\n",
       "      <th>late_aircraft_delay</th>\n",
       "    </tr>\n",
       "  </thead>\n",
       "  <tbody>\n",
       "  </tbody>\n",
       "</table>\n",
       "</div>"
      ],
      "text/plain": [
       "Empty DataFrame\n",
       "Columns: [year, month, carrier, carrier_name, airport, airport_name, arr_flights, arr_del15, carrier_ct, weather_ct, nas_ct, security_ct, late_aircraft_ct, arr_cancelled, arr_diverted, arr_delay, carrier_delay, weather_delay, nas_delay, security_delay, late_aircraft_delay]\n",
       "Index: []"
      ]
     },
     "execution_count": 6,
     "metadata": {},
     "output_type": "execute_result"
    }
   ],
   "source": [
    "# No duplication\n",
    "\n",
    "data[data.duplicated(keep=False)]"
   ]
  },
  {
   "cell_type": "markdown",
   "metadata": {},
   "source": [
    "\n",
    "## Part 2: Visualization\n"
   ]
  },
  {
   "cell_type": "markdown",
   "metadata": {},
   "source": [
    "##  Part 3. Machine Learning Model\n",
    "\n",
    "### 3.1 Multiple Classification"
   ]
  },
  {
   "cell_type": "code",
   "execution_count": 7,
   "metadata": {
    "collapsed": false,
    "scrolled": false
   },
   "outputs": [
    {
     "name": "stdout",
     "output_type": "stream",
     "text": [
      "(255869, 19)\n",
      "(255869, 5)\n"
     ]
    },
    {
     "data": {
      "text/html": [
       "<div>\n",
       "<style scoped>\n",
       "    .dataframe tbody tr th:only-of-type {\n",
       "        vertical-align: middle;\n",
       "    }\n",
       "\n",
       "    .dataframe tbody tr th {\n",
       "        vertical-align: top;\n",
       "    }\n",
       "\n",
       "    .dataframe thead th {\n",
       "        text-align: right;\n",
       "    }\n",
       "</style>\n",
       "<table border=\"1\" class=\"dataframe\">\n",
       "  <thead>\n",
       "    <tr style=\"text-align: right;\">\n",
       "      <th></th>\n",
       "      <th>year</th>\n",
       "      <th>month</th>\n",
       "      <th>carrier</th>\n",
       "      <th>arr_flights</th>\n",
       "      <th>arr_del15</th>\n",
       "      <th>delay_rate</th>\n",
       "      <th>class</th>\n",
       "    </tr>\n",
       "  </thead>\n",
       "  <tbody>\n",
       "    <tr>\n",
       "      <th>0</th>\n",
       "      <td>0.0</td>\n",
       "      <td>0.5</td>\n",
       "      <td>AA</td>\n",
       "      <td>307.0</td>\n",
       "      <td>56.0</td>\n",
       "      <td>0.182410</td>\n",
       "      <td>1</td>\n",
       "    </tr>\n",
       "    <tr>\n",
       "      <th>1</th>\n",
       "      <td>0.0</td>\n",
       "      <td>0.5</td>\n",
       "      <td>AA</td>\n",
       "      <td>90.0</td>\n",
       "      <td>27.0</td>\n",
       "      <td>0.300000</td>\n",
       "      <td>3</td>\n",
       "    </tr>\n",
       "    <tr>\n",
       "      <th>2</th>\n",
       "      <td>0.0</td>\n",
       "      <td>0.5</td>\n",
       "      <td>AA</td>\n",
       "      <td>752.0</td>\n",
       "      <td>186.0</td>\n",
       "      <td>0.247340</td>\n",
       "      <td>2</td>\n",
       "    </tr>\n",
       "    <tr>\n",
       "      <th>3</th>\n",
       "      <td>0.0</td>\n",
       "      <td>0.5</td>\n",
       "      <td>AA</td>\n",
       "      <td>842.0</td>\n",
       "      <td>174.0</td>\n",
       "      <td>0.206651</td>\n",
       "      <td>2</td>\n",
       "    </tr>\n",
       "    <tr>\n",
       "      <th>4</th>\n",
       "      <td>0.0</td>\n",
       "      <td>0.5</td>\n",
       "      <td>AA</td>\n",
       "      <td>383.0</td>\n",
       "      <td>55.0</td>\n",
       "      <td>0.143603</td>\n",
       "      <td>0</td>\n",
       "    </tr>\n",
       "    <tr>\n",
       "      <th>5</th>\n",
       "      <td>0.0</td>\n",
       "      <td>0.5</td>\n",
       "      <td>AA</td>\n",
       "      <td>89.0</td>\n",
       "      <td>12.0</td>\n",
       "      <td>0.134831</td>\n",
       "      <td>0</td>\n",
       "    </tr>\n",
       "    <tr>\n",
       "      <th>6</th>\n",
       "      <td>0.0</td>\n",
       "      <td>0.5</td>\n",
       "      <td>AA</td>\n",
       "      <td>445.0</td>\n",
       "      <td>82.0</td>\n",
       "      <td>0.184270</td>\n",
       "      <td>1</td>\n",
       "    </tr>\n",
       "    <tr>\n",
       "      <th>7</th>\n",
       "      <td>0.0</td>\n",
       "      <td>0.5</td>\n",
       "      <td>AA</td>\n",
       "      <td>1266.0</td>\n",
       "      <td>225.0</td>\n",
       "      <td>0.177725</td>\n",
       "      <td>1</td>\n",
       "    </tr>\n",
       "    <tr>\n",
       "      <th>8</th>\n",
       "      <td>0.0</td>\n",
       "      <td>0.5</td>\n",
       "      <td>AA</td>\n",
       "      <td>119.0</td>\n",
       "      <td>27.0</td>\n",
       "      <td>0.226891</td>\n",
       "      <td>2</td>\n",
       "    </tr>\n",
       "    <tr>\n",
       "      <th>9</th>\n",
       "      <td>0.0</td>\n",
       "      <td>0.5</td>\n",
       "      <td>AA</td>\n",
       "      <td>593.0</td>\n",
       "      <td>101.0</td>\n",
       "      <td>0.170320</td>\n",
       "      <td>1</td>\n",
       "    </tr>\n",
       "  </tbody>\n",
       "</table>\n",
       "</div>"
      ],
      "text/plain": [
       "   year  month carrier  arr_flights  arr_del15  delay_rate  class\n",
       "0   0.0    0.5      AA        307.0       56.0    0.182410      1\n",
       "1   0.0    0.5      AA         90.0       27.0    0.300000      3\n",
       "2   0.0    0.5      AA        752.0      186.0    0.247340      2\n",
       "3   0.0    0.5      AA        842.0      174.0    0.206651      2\n",
       "4   0.0    0.5      AA        383.0       55.0    0.143603      0\n",
       "5   0.0    0.5      AA         89.0       12.0    0.134831      0\n",
       "6   0.0    0.5      AA        445.0       82.0    0.184270      1\n",
       "7   0.0    0.5      AA       1266.0      225.0    0.177725      1\n",
       "8   0.0    0.5      AA        119.0       27.0    0.226891      2\n",
       "9   0.0    0.5      AA        593.0      101.0    0.170320      1"
      ]
     },
     "execution_count": 7,
     "metadata": {},
     "output_type": "execute_result"
    }
   ],
   "source": [
    "from sklearn import preprocessing\n",
    "from sklearn.linear_model import LogisticRegression\n",
    "from sklearn.ensemble import BaggingRegressor\n",
    "from sklearn.ensemble import RandomForestClassifier\n",
    "from sklearn.svm import SVC\n",
    "\n",
    "data_ML = data.drop(['carrier_name','airport_name'], axis=1)\n",
    "print(data_ML.shape)\n",
    "data_ML = data_ML[['year','month','carrier','arr_flights','arr_del15']]\n",
    "data_ML.groupby(['year','month','carrier','arr_flights']).sum()\n",
    "print(data_ML.shape)\n",
    "data_ML['delay_rate'] = data_ML.arr_del15/data_ML.arr_flights\n",
    "data_ML['year'] = (data_ML.year-2003.)/2019\n",
    "data_ML['month'] = data_ML.month/12\n",
    "\n",
    "\n",
    "col         = 'delay_rate'\n",
    "conditions  = [ data_ML[col] <=0.15, (data_ML[col] >0.15) & (data_ML[col]<= 0.20), \n",
    "               (data_ML[col] >0.20) & (data_ML[col]<= 0.25), data_ML[col]> 0.25]\n",
    "choices     = [0, 1, 2, 3]\n",
    "\n",
    "data_ML['class'] = np.select(conditions, choices, default=np.nan)\n",
    "data_ML['class'] = data_ML['class'].astype(int)\n",
    "\n",
    "data_ML.head(10)"
   ]
  },
  {
   "cell_type": "code",
   "execution_count": 8,
   "metadata": {
    "collapsed": false
   },
   "outputs": [],
   "source": [
    "from sklearn.preprocessing import LabelEncoder\n",
    "\n",
    "\n",
    "encoder = LabelEncoder()\n",
    "data_ML['carrier'] = encoder.fit_transform(data_ML['carrier'])"
   ]
  },
  {
   "cell_type": "code",
   "execution_count": 21,
   "metadata": {
    "collapsed": false
   },
   "outputs": [
    {
     "data": {
      "text/html": [
       "<div>\n",
       "<style scoped>\n",
       "    .dataframe tbody tr th:only-of-type {\n",
       "        vertical-align: middle;\n",
       "    }\n",
       "\n",
       "    .dataframe tbody tr th {\n",
       "        vertical-align: top;\n",
       "    }\n",
       "\n",
       "    .dataframe thead th {\n",
       "        text-align: right;\n",
       "    }\n",
       "</style>\n",
       "<table border=\"1\" class=\"dataframe\">\n",
       "  <thead>\n",
       "    <tr style=\"text-align: right;\">\n",
       "      <th></th>\n",
       "      <th>year</th>\n",
       "      <th>month</th>\n",
       "      <th>carrier</th>\n",
       "    </tr>\n",
       "  </thead>\n",
       "  <tbody>\n",
       "    <tr>\n",
       "      <th>0</th>\n",
       "      <td>0.0</td>\n",
       "      <td>0.5</td>\n",
       "      <td>1</td>\n",
       "    </tr>\n",
       "    <tr>\n",
       "      <th>1</th>\n",
       "      <td>0.0</td>\n",
       "      <td>0.5</td>\n",
       "      <td>1</td>\n",
       "    </tr>\n",
       "    <tr>\n",
       "      <th>2</th>\n",
       "      <td>0.0</td>\n",
       "      <td>0.5</td>\n",
       "      <td>1</td>\n",
       "    </tr>\n",
       "    <tr>\n",
       "      <th>3</th>\n",
       "      <td>0.0</td>\n",
       "      <td>0.5</td>\n",
       "      <td>1</td>\n",
       "    </tr>\n",
       "    <tr>\n",
       "      <th>4</th>\n",
       "      <td>0.0</td>\n",
       "      <td>0.5</td>\n",
       "      <td>1</td>\n",
       "    </tr>\n",
       "  </tbody>\n",
       "</table>\n",
       "</div>"
      ],
      "text/plain": [
       "   year  month  carrier\n",
       "0   0.0    0.5        1\n",
       "1   0.0    0.5        1\n",
       "2   0.0    0.5        1\n",
       "3   0.0    0.5        1\n",
       "4   0.0    0.5        1"
      ]
     },
     "execution_count": 21,
     "metadata": {},
     "output_type": "execute_result"
    }
   ],
   "source": [
    "y = data_ML['class']\n",
    "X = data_ML.drop(['arr_flights','arr_del15','delay_rate','class'], axis=1)\n",
    "\n",
    "X.head()"
   ]
  },
  {
   "cell_type": "code",
   "execution_count": 22,
   "metadata": {
    "collapsed": false
   },
   "outputs": [
    {
     "data": {
      "text/plain": [
       "0    81182\n",
       "3    74695\n",
       "1    54360\n",
       "2    45632\n",
       "Name: class, dtype: int64"
      ]
     },
     "execution_count": 22,
     "metadata": {},
     "output_type": "execute_result"
    }
   ],
   "source": [
    "y.value_counts()"
   ]
  },
  {
   "cell_type": "code",
   "execution_count": 23,
   "metadata": {
    "collapsed": false
   },
   "outputs": [],
   "source": [
    "from sklearn.model_selection import train_test_split\n",
    "\n",
    "X_train,X_test, y_train, y_test = train_test_split(X, y, test_size=0.2)"
   ]
  },
  {
   "cell_type": "code",
   "execution_count": 24,
   "metadata": {
    "collapsed": false
   },
   "outputs": [
    {
     "name": "stdout",
     "output_type": "stream",
     "text": [
      "(204695, 3)\n",
      "(51174, 3)\n",
      "(204695,)\n",
      "(51174,)\n"
     ]
    }
   ],
   "source": [
    "print(X_train.shape)\n",
    "print(X_test.shape)\n",
    "print(y_train.shape)\n",
    "print(y_test.shape)"
   ]
  },
  {
   "cell_type": "code",
   "execution_count": 25,
   "metadata": {
    "collapsed": false
   },
   "outputs": [
    {
     "name": "stdout",
     "output_type": "stream",
     "text": [
      "confusion matrix: \n",
      " [[11477     0     0  4786]\n",
      " [ 7033     0     0  3634]\n",
      " [ 5940     0     0  3211]\n",
      " [ 9937     0     0  5156]]\n",
      "              precision    recall  f1-score   support\n",
      "\n",
      "           0       0.33      0.71      0.45     16263\n",
      "           1       0.00      0.00      0.00     10667\n",
      "           2       0.00      0.00      0.00      9151\n",
      "           3       0.31      0.34      0.32     15093\n",
      "\n",
      "    accuracy                           0.33     51174\n",
      "   macro avg       0.16      0.26      0.19     51174\n",
      "weighted avg       0.20      0.33      0.24     51174\n",
      "\n"
     ]
    }
   ],
   "source": [
    "from sklearn.metrics import confusion_matrix,classification_report\n",
    "\n",
    "logreg =LogisticRegression(penalty='l2', solver='lbfgs')\n",
    "\n",
    "logreg.fit(X_train,y_train)\n",
    "\n",
    "y_pred = logreg.predict(X_test)\n",
    "#fpr_log, tpr_log, _ = roc_curve(y_test, y_pred)\n",
    "\n",
    "#print(f1_score(y_test, y_pred))\n",
    "#print(precision_score(y_test, y_pred))\n",
    "#print(recall_score(y_test, y_pred))\n",
    "\n",
    "print(\"confusion matrix: \\n\", confusion_matrix(y_test,y_pred))\n",
    "print(classification_report(y_test,y_pred))"
   ]
  },
  {
   "cell_type": "code",
   "execution_count": 26,
   "metadata": {
    "collapsed": false
   },
   "outputs": [
    {
     "name": "stdout",
     "output_type": "stream",
     "text": [
      "confusion matrix: \n",
      " [[11936  1791   509  2027]\n",
      " [ 4791  2452   890  2534]\n",
      " [ 2388  1789  1083  3891]\n",
      " [ 2040  1311   990 10752]]\n",
      "              precision    recall  f1-score   support\n",
      "\n",
      "           0       0.56      0.73      0.64     16263\n",
      "           1       0.33      0.23      0.27     10667\n",
      "           2       0.31      0.12      0.17      9151\n",
      "           3       0.56      0.71      0.63     15093\n",
      "\n",
      "    accuracy                           0.51     51174\n",
      "   macro avg       0.44      0.45      0.43     51174\n",
      "weighted avg       0.47      0.51      0.48     51174\n",
      "\n"
     ]
    }
   ],
   "source": [
    "from sklearn.tree import DecisionTreeClassifier\n",
    "\n",
    "DT = DecisionTreeClassifier(min_samples_split=3,random_state=20)\n",
    "\n",
    "DT.fit(X_train,y_train)\n",
    "y_pred =DT.predict(X_test)\n",
    "\n",
    "print(\"confusion matrix: \\n\", confusion_matrix(y_test,y_pred))\n",
    "print(classification_report(y_test,y_pred))"
   ]
  },
  {
   "cell_type": "code",
   "execution_count": 27,
   "metadata": {
    "collapsed": false
   },
   "outputs": [
    {
     "name": "stdout",
     "output_type": "stream",
     "text": [
      "confusion matrix: \n",
      " [[11860  1817   503  2083]\n",
      " [ 4711  2450   885  2621]\n",
      " [ 2335  1767  1068  3981]\n",
      " [ 1993  1282   950 10868]]\n",
      "              precision    recall  f1-score   support\n",
      "\n",
      "           0       0.57      0.73      0.64     16263\n",
      "           1       0.33      0.23      0.27     10667\n",
      "           2       0.31      0.12      0.17      9151\n",
      "           3       0.56      0.72      0.63     15093\n",
      "\n",
      "    accuracy                           0.51     51174\n",
      "   macro avg       0.44      0.45      0.43     51174\n",
      "weighted avg       0.47      0.51      0.48     51174\n",
      "\n"
     ]
    }
   ],
   "source": [
    "from sklearn.ensemble import RandomForestRegressor\n",
    "from sklearn.ensemble import RandomForestClassifier\n",
    "\n",
    "rf_model = RandomForestClassifier(n_estimators=200, max_features = 3,random_state=20,oob_score=True)\n",
    "rf_model.fit(X_train,y_train)\n",
    "y_pred = rf_model.predict(X_test)\n",
    "\n",
    "print(\"confusion matrix: \\n\", confusion_matrix(y_test,y_pred))\n",
    "print(classification_report(y_test,y_pred))"
   ]
  },
  {
   "cell_type": "code",
   "execution_count": 28,
   "metadata": {
    "collapsed": false
   },
   "outputs": [
    {
     "name": "stdout",
     "output_type": "stream",
     "text": [
      "confusion matrix: \n",
      " [[11977   418    45  3823]\n",
      " [ 5756   652   139  4120]\n",
      " [ 3627   490   210  4824]\n",
      " [ 3602   337   175 10979]]\n",
      "              precision    recall  f1-score   support\n",
      "\n",
      "           0       0.48      0.74      0.58     16263\n",
      "           1       0.34      0.06      0.10     10667\n",
      "           2       0.37      0.02      0.04      9151\n",
      "           3       0.46      0.73      0.57     15093\n",
      "\n",
      "    accuracy                           0.47     51174\n",
      "   macro avg       0.41      0.39      0.32     51174\n",
      "weighted avg       0.43      0.47      0.38     51174\n",
      "\n"
     ]
    }
   ],
   "source": [
    "from xgboost.sklearn import XGBClassifier\n",
    "\n",
    "xgb = XGBClassifier(max_depth=6, learning_rate=0.01, n_estimators=200)\n",
    "\n",
    "xgb.fit(X_train,y_train)\n",
    "y_pred = xgb.predict(X_test)\n",
    "\n",
    "print(\"confusion matrix: \\n\", confusion_matrix(y_test,y_pred))\n",
    "print(classification_report(y_test,y_pred))"
   ]
  },
  {
   "cell_type": "code",
   "execution_count": 29,
   "metadata": {
    "collapsed": false
   },
   "outputs": [
    {
     "data": {
      "image/png": "[encoded data removed]",
      "text/plain": [
       "<Figure size 576x360 with 1 Axes>"
      ]
     },
     "metadata": {
      "needs_background": "light"
     },
     "output_type": "display_data"
    }
   ],
   "source": [
    "importances = xgb.feature_importances_\n",
    "important_list = {}\n",
    "for i in np.argsort(importances)[::-1]:\n",
    "    important_list[X.columns[i]] = importances[i]\n",
    "    \n",
    "fig, ax = plt.subplots(figsize=(8, 5))\n",
    "pd.Series(important_list)[::-1].plot(kind='barh',ax=ax)\n",
    "plt.show()"
   ]
  },
  {
   "cell_type": "markdown",
   "metadata": {},
   "source": [
    "### 3.2 Binary Classification"
   ]
  },
  {
   "cell_type": "code",
   "execution_count": 30,
   "metadata": {
    "collapsed": false
   },
   "outputs": [
    {
     "data": {
      "text/html": [
       "<div>\n",
       "<style scoped>\n",
       "    .dataframe tbody tr th:only-of-type {\n",
       "        vertical-align: middle;\n",
       "    }\n",
       "\n",
       "    .dataframe tbody tr th {\n",
       "        vertical-align: top;\n",
       "    }\n",
       "\n",
       "    .dataframe thead th {\n",
       "        text-align: right;\n",
       "    }\n",
       "</style>\n",
       "<table border=\"1\" class=\"dataframe\">\n",
       "  <thead>\n",
       "    <tr style=\"text-align: right;\">\n",
       "      <th></th>\n",
       "      <th>year</th>\n",
       "      <th>month</th>\n",
       "      <th>carrier</th>\n",
       "      <th>arr_flights</th>\n",
       "      <th>arr_del15</th>\n",
       "      <th>delay_rate</th>\n",
       "      <th>class</th>\n",
       "    </tr>\n",
       "  </thead>\n",
       "  <tbody>\n",
       "    <tr>\n",
       "      <th>0</th>\n",
       "      <td>0.0</td>\n",
       "      <td>0.5</td>\n",
       "      <td>1</td>\n",
       "      <td>307.0</td>\n",
       "      <td>56.0</td>\n",
       "      <td>0.182410</td>\n",
       "      <td>0</td>\n",
       "    </tr>\n",
       "    <tr>\n",
       "      <th>1</th>\n",
       "      <td>0.0</td>\n",
       "      <td>0.5</td>\n",
       "      <td>1</td>\n",
       "      <td>90.0</td>\n",
       "      <td>27.0</td>\n",
       "      <td>0.300000</td>\n",
       "      <td>1</td>\n",
       "    </tr>\n",
       "    <tr>\n",
       "      <th>2</th>\n",
       "      <td>0.0</td>\n",
       "      <td>0.5</td>\n",
       "      <td>1</td>\n",
       "      <td>752.0</td>\n",
       "      <td>186.0</td>\n",
       "      <td>0.247340</td>\n",
       "      <td>1</td>\n",
       "    </tr>\n",
       "    <tr>\n",
       "      <th>3</th>\n",
       "      <td>0.0</td>\n",
       "      <td>0.5</td>\n",
       "      <td>1</td>\n",
       "      <td>842.0</td>\n",
       "      <td>174.0</td>\n",
       "      <td>0.206651</td>\n",
       "      <td>1</td>\n",
       "    </tr>\n",
       "    <tr>\n",
       "      <th>4</th>\n",
       "      <td>0.0</td>\n",
       "      <td>0.5</td>\n",
       "      <td>1</td>\n",
       "      <td>383.0</td>\n",
       "      <td>55.0</td>\n",
       "      <td>0.143603</td>\n",
       "      <td>0</td>\n",
       "    </tr>\n",
       "    <tr>\n",
       "      <th>5</th>\n",
       "      <td>0.0</td>\n",
       "      <td>0.5</td>\n",
       "      <td>1</td>\n",
       "      <td>89.0</td>\n",
       "      <td>12.0</td>\n",
       "      <td>0.134831</td>\n",
       "      <td>0</td>\n",
       "    </tr>\n",
       "    <tr>\n",
       "      <th>6</th>\n",
       "      <td>0.0</td>\n",
       "      <td>0.5</td>\n",
       "      <td>1</td>\n",
       "      <td>445.0</td>\n",
       "      <td>82.0</td>\n",
       "      <td>0.184270</td>\n",
       "      <td>0</td>\n",
       "    </tr>\n",
       "    <tr>\n",
       "      <th>7</th>\n",
       "      <td>0.0</td>\n",
       "      <td>0.5</td>\n",
       "      <td>1</td>\n",
       "      <td>1266.0</td>\n",
       "      <td>225.0</td>\n",
       "      <td>0.177725</td>\n",
       "      <td>0</td>\n",
       "    </tr>\n",
       "    <tr>\n",
       "      <th>8</th>\n",
       "      <td>0.0</td>\n",
       "      <td>0.5</td>\n",
       "      <td>1</td>\n",
       "      <td>119.0</td>\n",
       "      <td>27.0</td>\n",
       "      <td>0.226891</td>\n",
       "      <td>1</td>\n",
       "    </tr>\n",
       "    <tr>\n",
       "      <th>9</th>\n",
       "      <td>0.0</td>\n",
       "      <td>0.5</td>\n",
       "      <td>1</td>\n",
       "      <td>593.0</td>\n",
       "      <td>101.0</td>\n",
       "      <td>0.170320</td>\n",
       "      <td>0</td>\n",
       "    </tr>\n",
       "  </tbody>\n",
       "</table>\n",
       "</div>"
      ],
      "text/plain": [
       "   year  month  carrier  arr_flights  arr_del15  delay_rate  class\n",
       "0   0.0    0.5        1        307.0       56.0    0.182410      0\n",
       "1   0.0    0.5        1         90.0       27.0    0.300000      1\n",
       "2   0.0    0.5        1        752.0      186.0    0.247340      1\n",
       "3   0.0    0.5        1        842.0      174.0    0.206651      1\n",
       "4   0.0    0.5        1        383.0       55.0    0.143603      0\n",
       "5   0.0    0.5        1         89.0       12.0    0.134831      0\n",
       "6   0.0    0.5        1        445.0       82.0    0.184270      0\n",
       "7   0.0    0.5        1       1266.0      225.0    0.177725      0\n",
       "8   0.0    0.5        1        119.0       27.0    0.226891      1\n",
       "9   0.0    0.5        1        593.0      101.0    0.170320      0"
      ]
     },
     "execution_count": 30,
     "metadata": {},
     "output_type": "execute_result"
    }
   ],
   "source": [
    "col         = 'delay_rate'\n",
    "conditions  = [ data_ML[col] <=0.20, data_ML[col]> 0.20]\n",
    "choices     = [0, 1]\n",
    "\n",
    "data_ML['class'] = np.select(conditions, choices, default=np.nan)\n",
    "data_ML['class'] = data_ML['class'].astype(int)\n",
    "\n",
    "data_ML.head(10)"
   ]
  },
  {
   "cell_type": "code",
   "execution_count": 31,
   "metadata": {
    "collapsed": false
   },
   "outputs": [
    {
     "data": {
      "text/html": [
       "<div>\n",
       "<style scoped>\n",
       "    .dataframe tbody tr th:only-of-type {\n",
       "        vertical-align: middle;\n",
       "    }\n",
       "\n",
       "    .dataframe tbody tr th {\n",
       "        vertical-align: top;\n",
       "    }\n",
       "\n",
       "    .dataframe thead th {\n",
       "        text-align: right;\n",
       "    }\n",
       "</style>\n",
       "<table border=\"1\" class=\"dataframe\">\n",
       "  <thead>\n",
       "    <tr style=\"text-align: right;\">\n",
       "      <th></th>\n",
       "      <th>year</th>\n",
       "      <th>month</th>\n",
       "      <th>carrier</th>\n",
       "    </tr>\n",
       "  </thead>\n",
       "  <tbody>\n",
       "    <tr>\n",
       "      <th>0</th>\n",
       "      <td>0.0</td>\n",
       "      <td>0.5</td>\n",
       "      <td>1</td>\n",
       "    </tr>\n",
       "    <tr>\n",
       "      <th>1</th>\n",
       "      <td>0.0</td>\n",
       "      <td>0.5</td>\n",
       "      <td>1</td>\n",
       "    </tr>\n",
       "    <tr>\n",
       "      <th>2</th>\n",
       "      <td>0.0</td>\n",
       "      <td>0.5</td>\n",
       "      <td>1</td>\n",
       "    </tr>\n",
       "    <tr>\n",
       "      <th>3</th>\n",
       "      <td>0.0</td>\n",
       "      <td>0.5</td>\n",
       "      <td>1</td>\n",
       "    </tr>\n",
       "    <tr>\n",
       "      <th>4</th>\n",
       "      <td>0.0</td>\n",
       "      <td>0.5</td>\n",
       "      <td>1</td>\n",
       "    </tr>\n",
       "  </tbody>\n",
       "</table>\n",
       "</div>"
      ],
      "text/plain": [
       "   year  month  carrier\n",
       "0   0.0    0.5        1\n",
       "1   0.0    0.5        1\n",
       "2   0.0    0.5        1\n",
       "3   0.0    0.5        1\n",
       "4   0.0    0.5        1"
      ]
     },
     "execution_count": 31,
     "metadata": {},
     "output_type": "execute_result"
    }
   ],
   "source": [
    "y = data_ML['class']\n",
    "X = data_ML.drop(['arr_flights','arr_del15','delay_rate','class'], axis=1)\n",
    "\n",
    "X.head()"
   ]
  },
  {
   "cell_type": "code",
   "execution_count": 32,
   "metadata": {
    "collapsed": false
   },
   "outputs": [
    {
     "data": {
      "text/plain": [
       "0    135542\n",
       "1    120327\n",
       "Name: class, dtype: int64"
      ]
     },
     "execution_count": 32,
     "metadata": {},
     "output_type": "execute_result"
    }
   ],
   "source": [
    "y.value_counts()"
   ]
  },
  {
   "cell_type": "code",
   "execution_count": 33,
   "metadata": {
    "collapsed": true
   },
   "outputs": [],
   "source": [
    "X_train,X_test, y_train, y_test = train_test_split(X, y, test_size=0.2)"
   ]
  },
  {
   "cell_type": "code",
   "execution_count": 35,
   "metadata": {
    "collapsed": false
   },
   "outputs": [
    {
     "name": "stdout",
     "output_type": "stream",
     "text": [
      "confusion matrix: \n",
      " [[23910  3237]\n",
      " [20023  4004]]\n",
      "              precision    recall  f1-score   support\n",
      "\n",
      "           0       0.54      0.88      0.67     27147\n",
      "           1       0.55      0.17      0.26     24027\n",
      "\n",
      "    accuracy                           0.55     51174\n",
      "   macro avg       0.55      0.52      0.46     51174\n",
      "weighted avg       0.55      0.55      0.48     51174\n",
      "\n"
     ]
    }
   ],
   "source": [
    "from sklearn.metrics import roc_curve, auc\n",
    "\n",
    "\n",
    "logreg =LogisticRegression(penalty='l2', solver='lbfgs')\n",
    "\n",
    "logreg.fit(X_train,y_train)\n",
    "\n",
    "y_pred = logreg.predict(X_test)\n",
    "fpr_log, tpr_log, _ = roc_curve(y_test, y_pred)\n",
    "\n",
    "print(\"confusion matrix: \\n\", confusion_matrix(y_test,y_pred))\n",
    "print(classification_report(y_test,y_pred))"
   ]
  },
  {
   "cell_type": "code",
   "execution_count": 36,
   "metadata": {
    "collapsed": false
   },
   "outputs": [
    {
     "name": "stdout",
     "output_type": "stream",
     "text": [
      "confusion matrix: \n",
      " [[21032  6115]\n",
      " [ 7114 16913]]\n",
      "              precision    recall  f1-score   support\n",
      "\n",
      "           0       0.75      0.77      0.76     27147\n",
      "           1       0.73      0.70      0.72     24027\n",
      "\n",
      "    accuracy                           0.74     51174\n",
      "   macro avg       0.74      0.74      0.74     51174\n",
      "weighted avg       0.74      0.74      0.74     51174\n",
      "\n"
     ]
    }
   ],
   "source": [
    "DT = DecisionTreeClassifier(min_samples_split=3,random_state=20)\n",
    "DT.fit(X_train,y_train)\n",
    "y_pred =DT.predict(X_test)\n",
    "fpr_dt, tpr_dt, _ = roc_curve(y_test, y_pred)\n",
    "\n",
    "print(\"confusion matrix: \\n\", confusion_matrix(y_test,y_pred))\n",
    "print(classification_report(y_test,y_pred))"
   ]
  },
  {
   "cell_type": "code",
   "execution_count": 38,
   "metadata": {
    "collapsed": false
   },
   "outputs": [
    {
     "name": "stdout",
     "output_type": "stream",
     "text": [
      "confusion matrix: \n",
      " [[20976  6171]\n",
      " [ 7064 16963]]\n",
      "              precision    recall  f1-score   support\n",
      "\n",
      "           0       0.75      0.77      0.76     27147\n",
      "           1       0.73      0.71      0.72     24027\n",
      "\n",
      "    accuracy                           0.74     51174\n",
      "   macro avg       0.74      0.74      0.74     51174\n",
      "weighted avg       0.74      0.74      0.74     51174\n",
      "\n"
     ]
    }
   ],
   "source": [
    "rf_model = RandomForestClassifier(n_estimators=200, random_state=20,oob_score=True)\n",
    "rf_model.fit(X_train,y_train)\n",
    "y_pred = rf_model.predict(X_test)\n",
    "fpr_rf, tpr_rf, _ = roc_curve(y_test, y_pred)\n",
    "\n",
    "print(\"confusion matrix: \\n\", confusion_matrix(y_test,y_pred))\n",
    "print(classification_report(y_test,y_pred))"
   ]
  },
  {
   "cell_type": "code",
   "execution_count": 39,
   "metadata": {
    "collapsed": false
   },
   "outputs": [
    {
     "name": "stdout",
     "output_type": "stream",
     "text": [
      "confusion matrix: \n",
      " [[18935  8212]\n",
      " [10004 14023]]\n",
      "              precision    recall  f1-score   support\n",
      "\n",
      "           0       0.65      0.70      0.68     27147\n",
      "           1       0.63      0.58      0.61     24027\n",
      "\n",
      "    accuracy                           0.64     51174\n",
      "   macro avg       0.64      0.64      0.64     51174\n",
      "weighted avg       0.64      0.64      0.64     51174\n",
      "\n"
     ]
    }
   ],
   "source": [
    "xgb = XGBClassifier(learning_rate=0.01, n_estimators=200)\n",
    "\n",
    "xgb.fit(X_train,y_train)\n",
    "y_pred = xgb.predict(X_test)\n",
    "fpr_xgb, tpr_xgb, _ = roc_curve(y_test, y_pred)\n",
    "\n",
    "print(\"confusion matrix: \\n\", confusion_matrix(y_test,y_pred))\n",
    "print(classification_report(y_test,y_pred))"
   ]
  },
  {
   "cell_type": "code",
   "execution_count": 41,
   "metadata": {
    "collapsed": false
   },
   "outputs": [
    {
     "name": "stdout",
     "output_type": "stream",
     "text": [
      "(255869, 6)\n"
     ]
    },
    {
     "data": {
      "text/html": [
       "<div>\n",
       "<style scoped>\n",
       "    .dataframe tbody tr th:only-of-type {\n",
       "        vertical-align: middle;\n",
       "    }\n",
       "\n",
       "    .dataframe tbody tr th {\n",
       "        vertical-align: top;\n",
       "    }\n",
       "\n",
       "    .dataframe thead th {\n",
       "        text-align: right;\n",
       "    }\n",
       "</style>\n",
       "<table border=\"1\" class=\"dataframe\">\n",
       "  <thead>\n",
       "    <tr style=\"text-align: right;\">\n",
       "      <th></th>\n",
       "      <th>year</th>\n",
       "      <th>month</th>\n",
       "      <th>carrier</th>\n",
       "      <th>airport</th>\n",
       "      <th>arr_flights</th>\n",
       "      <th>arr_del15</th>\n",
       "      <th>delay_rate</th>\n",
       "    </tr>\n",
       "  </thead>\n",
       "  <tbody>\n",
       "    <tr>\n",
       "      <th>0</th>\n",
       "      <td>0.0</td>\n",
       "      <td>0.5</td>\n",
       "      <td>AA</td>\n",
       "      <td>ABQ</td>\n",
       "      <td>307.0</td>\n",
       "      <td>56.0</td>\n",
       "      <td>0.182410</td>\n",
       "    </tr>\n",
       "    <tr>\n",
       "      <th>1</th>\n",
       "      <td>0.0</td>\n",
       "      <td>0.5</td>\n",
       "      <td>AA</td>\n",
       "      <td>ANC</td>\n",
       "      <td>90.0</td>\n",
       "      <td>27.0</td>\n",
       "      <td>0.300000</td>\n",
       "    </tr>\n",
       "    <tr>\n",
       "      <th>2</th>\n",
       "      <td>0.0</td>\n",
       "      <td>0.5</td>\n",
       "      <td>AA</td>\n",
       "      <td>ATL</td>\n",
       "      <td>752.0</td>\n",
       "      <td>186.0</td>\n",
       "      <td>0.247340</td>\n",
       "    </tr>\n",
       "    <tr>\n",
       "      <th>3</th>\n",
       "      <td>0.0</td>\n",
       "      <td>0.5</td>\n",
       "      <td>AA</td>\n",
       "      <td>AUS</td>\n",
       "      <td>842.0</td>\n",
       "      <td>174.0</td>\n",
       "      <td>0.206651</td>\n",
       "    </tr>\n",
       "    <tr>\n",
       "      <th>4</th>\n",
       "      <td>0.0</td>\n",
       "      <td>0.5</td>\n",
       "      <td>AA</td>\n",
       "      <td>BDL</td>\n",
       "      <td>383.0</td>\n",
       "      <td>55.0</td>\n",
       "      <td>0.143603</td>\n",
       "    </tr>\n",
       "    <tr>\n",
       "      <th>5</th>\n",
       "      <td>0.0</td>\n",
       "      <td>0.5</td>\n",
       "      <td>AA</td>\n",
       "      <td>BHM</td>\n",
       "      <td>89.0</td>\n",
       "      <td>12.0</td>\n",
       "      <td>0.134831</td>\n",
       "    </tr>\n",
       "    <tr>\n",
       "      <th>6</th>\n",
       "      <td>0.0</td>\n",
       "      <td>0.5</td>\n",
       "      <td>AA</td>\n",
       "      <td>BNA</td>\n",
       "      <td>445.0</td>\n",
       "      <td>82.0</td>\n",
       "      <td>0.184270</td>\n",
       "    </tr>\n",
       "    <tr>\n",
       "      <th>7</th>\n",
       "      <td>0.0</td>\n",
       "      <td>0.5</td>\n",
       "      <td>AA</td>\n",
       "      <td>BOS</td>\n",
       "      <td>1266.0</td>\n",
       "      <td>225.0</td>\n",
       "      <td>0.177725</td>\n",
       "    </tr>\n",
       "    <tr>\n",
       "      <th>8</th>\n",
       "      <td>0.0</td>\n",
       "      <td>0.5</td>\n",
       "      <td>AA</td>\n",
       "      <td>BUR</td>\n",
       "      <td>119.0</td>\n",
       "      <td>27.0</td>\n",
       "      <td>0.226891</td>\n",
       "    </tr>\n",
       "    <tr>\n",
       "      <th>9</th>\n",
       "      <td>0.0</td>\n",
       "      <td>0.5</td>\n",
       "      <td>AA</td>\n",
       "      <td>BWI</td>\n",
       "      <td>593.0</td>\n",
       "      <td>101.0</td>\n",
       "      <td>0.170320</td>\n",
       "    </tr>\n",
       "  </tbody>\n",
       "</table>\n",
       "</div>"
      ],
      "text/plain": [
       "   year  month carrier airport  arr_flights  arr_del15  delay_rate\n",
       "0   0.0    0.5      AA     ABQ        307.0       56.0    0.182410\n",
       "1   0.0    0.5      AA     ANC         90.0       27.0    0.300000\n",
       "2   0.0    0.5      AA     ATL        752.0      186.0    0.247340\n",
       "3   0.0    0.5      AA     AUS        842.0      174.0    0.206651\n",
       "4   0.0    0.5      AA     BDL        383.0       55.0    0.143603\n",
       "5   0.0    0.5      AA     BHM         89.0       12.0    0.134831\n",
       "6   0.0    0.5      AA     BNA        445.0       82.0    0.184270\n",
       "7   0.0    0.5      AA     BOS       1266.0      225.0    0.177725\n",
       "8   0.0    0.5      AA     BUR        119.0       27.0    0.226891\n",
       "9   0.0    0.5      AA     BWI        593.0      101.0    0.170320"
      ]
     },
     "execution_count": 41,
     "metadata": {},
     "output_type": "execute_result"
    }
   ],
   "source": [
    "# add airport\n",
    "\n",
    "data_ML = data[['year','month','carrier','airport','arr_flights','arr_del15']]\n",
    "data_ML.groupby(['year','month','carrier','airport','arr_flights']).sum()\n",
    "print(data_ML.shape)\n",
    "data_ML['delay_rate'] = data_ML.arr_del15/data_ML.arr_flights\n",
    "data_ML['year'] = (data_ML.year-2003.)/2019\n",
    "data_ML['month'] = data_ML.month/12\n",
    "data_ML.head(10)"
   ]
  },
  {
   "cell_type": "code",
   "execution_count": 42,
   "metadata": {
    "collapsed": true
   },
   "outputs": [],
   "source": [
    "encoder = LabelEncoder()\n",
    "data_ML['carrier'] = encoder.fit_transform(data_ML['carrier'])\n",
    "\n",
    "encoder = LabelEncoder()\n",
    "data_ML['airport'] = encoder.fit_transform(data_ML['airport'])"
   ]
  },
  {
   "cell_type": "code",
   "execution_count": 44,
   "metadata": {
    "collapsed": false
   },
   "outputs": [
    {
     "data": {
      "text/plain": [
       "array([ 1,  3,  4,  5,  6,  7,  8, 10, 13, 14, 16, 18, 19, 20, 21, 22, 24,\n",
       "       12, 17,  9, 26,  2, 25,  0, 23, 15, 27, 11])"
      ]
     },
     "execution_count": 44,
     "metadata": {},
     "output_type": "execute_result"
    }
   ],
   "source": [
    "data_ML.carrier.unique()"
   ]
  },
  {
   "cell_type": "code",
   "execution_count": 45,
   "metadata": {
    "collapsed": false
   },
   "outputs": [
    {
     "data": {
      "text/plain": [
       "array([  2,  17,  22,  24,  29,  35,  43,  45,  56,  57,  74,  76,  77,\n",
       "        82,  93,  95,  96,  97, 104, 105, 112, 115, 121, 125, 129, 164,\n",
       "       166, 167, 169, 174, 176, 177, 184, 193, 195, 196, 200, 204, 206,\n",
       "       215, 216, 217, 218, 229, 231, 233, 235, 236, 241, 257, 258, 265,\n",
       "       267, 269, 270, 272, 273, 274, 282, 283, 288, 289, 295, 305, 307,\n",
       "       314, 317, 319, 323, 324, 326, 327, 335, 336, 338, 344, 346, 348,\n",
       "       351, 353, 360, 362, 363, 372, 375, 377, 394,   9,  10,  13,  30,\n",
       "        44,  51,  63, 100, 106, 123, 140, 153, 199, 201, 271, 277, 303,\n",
       "       332, 343, 392, 395,  54,  55, 321, 368,  48,  53,  68,  85, 146,\n",
       "       151, 214, 240, 263, 298, 309, 328, 358,   0,   8,  14,  23,  25,\n",
       "        26,  28,  33,  34,  42,  59,  60,  66,  67,  70,  86,  88, 119,\n",
       "       124, 133, 135, 137, 150, 152, 202, 213, 220, 228, 232, 243, 247,\n",
       "       255, 290, 320, 330, 333, 339, 371, 373, 378, 382,  36,  58,  91,\n",
       "       127, 154, 163, 194, 246, 250, 256, 301, 370, 391,   1,   4,  11,\n",
       "        12,  16,  47,  87,  98, 122, 126, 130, 145, 155, 170, 180, 182,\n",
       "       189, 207, 224, 226, 230, 234, 238, 248, 284, 287, 342, 390,   6,\n",
       "        75,  78,  94, 136, 142, 147, 205, 222, 223, 227, 253, 254, 329,\n",
       "       331, 345, 357, 366, 380, 381,  37, 101, 141, 252, 310,   7,  32,\n",
       "        52,  62,  64,  69,  73,  81,  84,  90, 102, 113, 118, 143, 178,\n",
       "       186, 192, 237, 251, 260, 279, 293, 306, 312, 313, 340, 352, 364,\n",
       "       365, 379, 389, 393, 398,   5,  46,  50,  92, 111, 156, 168, 211,\n",
       "       387, 292,  31, 116, 191, 221, 245, 158,  72,  61, 171, 308, 266,\n",
       "       149, 347, 131,  18, 225, 188, 162, 203, 302, 376, 355, 322,  89,\n",
       "        21, 128, 264, 369, 209, 315, 181, 354,  40, 311, 374,  15,  79,\n",
       "       114, 296, 316, 109, 259, 160, 144, 120, 242, 297,  38, 185, 349,\n",
       "       396, 294, 138, 318, 244, 219, 276, 190,  39, 325, 262, 239,  83,\n",
       "       280, 110, 386,   3, 157, 249, 356, 261, 148, 165,  20, 197, 139,\n",
       "       103,  19, 161,  49, 117, 183, 187,  27, 341,  71, 299,  99, 275,\n",
       "       134, 388,  80, 385, 359, 172, 198, 107, 173, 291, 208, 281, 175,\n",
       "       285, 179, 361, 132, 367, 383,  65,  41, 159, 212, 268, 278, 304,\n",
       "       334, 337, 384, 397, 210, 286, 350, 300, 108])"
      ]
     },
     "execution_count": 45,
     "metadata": {},
     "output_type": "execute_result"
    }
   ],
   "source": [
    "data_ML.airport.unique()"
   ]
  },
  {
   "cell_type": "code",
   "execution_count": 47,
   "metadata": {
    "collapsed": false
   },
   "outputs": [
    {
     "data": {
      "text/html": [
       "<div>\n",
       "<style scoped>\n",
       "    .dataframe tbody tr th:only-of-type {\n",
       "        vertical-align: middle;\n",
       "    }\n",
       "\n",
       "    .dataframe tbody tr th {\n",
       "        vertical-align: top;\n",
       "    }\n",
       "\n",
       "    .dataframe thead th {\n",
       "        text-align: right;\n",
       "    }\n",
       "</style>\n",
       "<table border=\"1\" class=\"dataframe\">\n",
       "  <thead>\n",
       "    <tr style=\"text-align: right;\">\n",
       "      <th></th>\n",
       "      <th>year</th>\n",
       "      <th>month</th>\n",
       "      <th>carrier</th>\n",
       "      <th>airport</th>\n",
       "      <th>arr_flights</th>\n",
       "      <th>arr_del15</th>\n",
       "      <th>delay_rate</th>\n",
       "    </tr>\n",
       "  </thead>\n",
       "  <tbody>\n",
       "    <tr>\n",
       "      <th>0</th>\n",
       "      <td>0.0</td>\n",
       "      <td>0.5</td>\n",
       "      <td>1</td>\n",
       "      <td>2</td>\n",
       "      <td>307.0</td>\n",
       "      <td>56.0</td>\n",
       "      <td>0.182410</td>\n",
       "    </tr>\n",
       "    <tr>\n",
       "      <th>1</th>\n",
       "      <td>0.0</td>\n",
       "      <td>0.5</td>\n",
       "      <td>1</td>\n",
       "      <td>17</td>\n",
       "      <td>90.0</td>\n",
       "      <td>27.0</td>\n",
       "      <td>0.300000</td>\n",
       "    </tr>\n",
       "    <tr>\n",
       "      <th>2</th>\n",
       "      <td>0.0</td>\n",
       "      <td>0.5</td>\n",
       "      <td>1</td>\n",
       "      <td>22</td>\n",
       "      <td>752.0</td>\n",
       "      <td>186.0</td>\n",
       "      <td>0.247340</td>\n",
       "    </tr>\n",
       "    <tr>\n",
       "      <th>3</th>\n",
       "      <td>0.0</td>\n",
       "      <td>0.5</td>\n",
       "      <td>1</td>\n",
       "      <td>24</td>\n",
       "      <td>842.0</td>\n",
       "      <td>174.0</td>\n",
       "      <td>0.206651</td>\n",
       "    </tr>\n",
       "    <tr>\n",
       "      <th>4</th>\n",
       "      <td>0.0</td>\n",
       "      <td>0.5</td>\n",
       "      <td>1</td>\n",
       "      <td>29</td>\n",
       "      <td>383.0</td>\n",
       "      <td>55.0</td>\n",
       "      <td>0.143603</td>\n",
       "    </tr>\n",
       "  </tbody>\n",
       "</table>\n",
       "</div>"
      ],
      "text/plain": [
       "   year  month  carrier  airport  arr_flights  arr_del15  delay_rate\n",
       "0   0.0    0.5        1        2        307.0       56.0    0.182410\n",
       "1   0.0    0.5        1       17         90.0       27.0    0.300000\n",
       "2   0.0    0.5        1       22        752.0      186.0    0.247340\n",
       "3   0.0    0.5        1       24        842.0      174.0    0.206651\n",
       "4   0.0    0.5        1       29        383.0       55.0    0.143603"
      ]
     },
     "execution_count": 47,
     "metadata": {},
     "output_type": "execute_result"
    }
   ],
   "source": [
    "data_ML.head()"
   ]
  },
  {
   "cell_type": "code",
   "execution_count": 48,
   "metadata": {
    "collapsed": false
   },
   "outputs": [
    {
     "data": {
      "text/html": [
       "<div>\n",
       "<style scoped>\n",
       "    .dataframe tbody tr th:only-of-type {\n",
       "        vertical-align: middle;\n",
       "    }\n",
       "\n",
       "    .dataframe tbody tr th {\n",
       "        vertical-align: top;\n",
       "    }\n",
       "\n",
       "    .dataframe thead th {\n",
       "        text-align: right;\n",
       "    }\n",
       "</style>\n",
       "<table border=\"1\" class=\"dataframe\">\n",
       "  <thead>\n",
       "    <tr style=\"text-align: right;\">\n",
       "      <th></th>\n",
       "      <th>year</th>\n",
       "      <th>month</th>\n",
       "      <th>carrier</th>\n",
       "      <th>airport</th>\n",
       "      <th>arr_flights</th>\n",
       "      <th>arr_del15</th>\n",
       "      <th>delay_rate</th>\n",
       "      <th>class</th>\n",
       "    </tr>\n",
       "  </thead>\n",
       "  <tbody>\n",
       "    <tr>\n",
       "      <th>0</th>\n",
       "      <td>0.0</td>\n",
       "      <td>0.5</td>\n",
       "      <td>1</td>\n",
       "      <td>2</td>\n",
       "      <td>307.0</td>\n",
       "      <td>56.0</td>\n",
       "      <td>0.182410</td>\n",
       "      <td>0</td>\n",
       "    </tr>\n",
       "    <tr>\n",
       "      <th>1</th>\n",
       "      <td>0.0</td>\n",
       "      <td>0.5</td>\n",
       "      <td>1</td>\n",
       "      <td>17</td>\n",
       "      <td>90.0</td>\n",
       "      <td>27.0</td>\n",
       "      <td>0.300000</td>\n",
       "      <td>1</td>\n",
       "    </tr>\n",
       "    <tr>\n",
       "      <th>2</th>\n",
       "      <td>0.0</td>\n",
       "      <td>0.5</td>\n",
       "      <td>1</td>\n",
       "      <td>22</td>\n",
       "      <td>752.0</td>\n",
       "      <td>186.0</td>\n",
       "      <td>0.247340</td>\n",
       "      <td>1</td>\n",
       "    </tr>\n",
       "    <tr>\n",
       "      <th>3</th>\n",
       "      <td>0.0</td>\n",
       "      <td>0.5</td>\n",
       "      <td>1</td>\n",
       "      <td>24</td>\n",
       "      <td>842.0</td>\n",
       "      <td>174.0</td>\n",
       "      <td>0.206651</td>\n",
       "      <td>1</td>\n",
       "    </tr>\n",
       "    <tr>\n",
       "      <th>4</th>\n",
       "      <td>0.0</td>\n",
       "      <td>0.5</td>\n",
       "      <td>1</td>\n",
       "      <td>29</td>\n",
       "      <td>383.0</td>\n",
       "      <td>55.0</td>\n",
       "      <td>0.143603</td>\n",
       "      <td>0</td>\n",
       "    </tr>\n",
       "    <tr>\n",
       "      <th>5</th>\n",
       "      <td>0.0</td>\n",
       "      <td>0.5</td>\n",
       "      <td>1</td>\n",
       "      <td>35</td>\n",
       "      <td>89.0</td>\n",
       "      <td>12.0</td>\n",
       "      <td>0.134831</td>\n",
       "      <td>0</td>\n",
       "    </tr>\n",
       "    <tr>\n",
       "      <th>6</th>\n",
       "      <td>0.0</td>\n",
       "      <td>0.5</td>\n",
       "      <td>1</td>\n",
       "      <td>43</td>\n",
       "      <td>445.0</td>\n",
       "      <td>82.0</td>\n",
       "      <td>0.184270</td>\n",
       "      <td>0</td>\n",
       "    </tr>\n",
       "    <tr>\n",
       "      <th>7</th>\n",
       "      <td>0.0</td>\n",
       "      <td>0.5</td>\n",
       "      <td>1</td>\n",
       "      <td>45</td>\n",
       "      <td>1266.0</td>\n",
       "      <td>225.0</td>\n",
       "      <td>0.177725</td>\n",
       "      <td>0</td>\n",
       "    </tr>\n",
       "    <tr>\n",
       "      <th>8</th>\n",
       "      <td>0.0</td>\n",
       "      <td>0.5</td>\n",
       "      <td>1</td>\n",
       "      <td>56</td>\n",
       "      <td>119.0</td>\n",
       "      <td>27.0</td>\n",
       "      <td>0.226891</td>\n",
       "      <td>1</td>\n",
       "    </tr>\n",
       "    <tr>\n",
       "      <th>9</th>\n",
       "      <td>0.0</td>\n",
       "      <td>0.5</td>\n",
       "      <td>1</td>\n",
       "      <td>57</td>\n",
       "      <td>593.0</td>\n",
       "      <td>101.0</td>\n",
       "      <td>0.170320</td>\n",
       "      <td>0</td>\n",
       "    </tr>\n",
       "  </tbody>\n",
       "</table>\n",
       "</div>"
      ],
      "text/plain": [
       "   year  month  carrier  airport  arr_flights  arr_del15  delay_rate  class\n",
       "0   0.0    0.5        1        2        307.0       56.0    0.182410      0\n",
       "1   0.0    0.5        1       17         90.0       27.0    0.300000      1\n",
       "2   0.0    0.5        1       22        752.0      186.0    0.247340      1\n",
       "3   0.0    0.5        1       24        842.0      174.0    0.206651      1\n",
       "4   0.0    0.5        1       29        383.0       55.0    0.143603      0\n",
       "5   0.0    0.5        1       35         89.0       12.0    0.134831      0\n",
       "6   0.0    0.5        1       43        445.0       82.0    0.184270      0\n",
       "7   0.0    0.5        1       45       1266.0      225.0    0.177725      0\n",
       "8   0.0    0.5        1       56        119.0       27.0    0.226891      1\n",
       "9   0.0    0.5        1       57        593.0      101.0    0.170320      0"
      ]
     },
     "execution_count": 48,
     "metadata": {},
     "output_type": "execute_result"
    }
   ],
   "source": [
    "col         = 'delay_rate'\n",
    "conditions  = [ data_ML[col] <=0.20, data_ML[col]> 0.20]\n",
    "choices     = [0, 1]\n",
    "\n",
    "data_ML['class'] = np.select(conditions, choices, default=np.nan)\n",
    "data_ML['class'] = data_ML['class'].astype(int)\n",
    "\n",
    "data_ML.head(10)"
   ]
  },
  {
   "cell_type": "code",
   "execution_count": 49,
   "metadata": {
    "collapsed": false
   },
   "outputs": [
    {
     "data": {
      "text/html": [
       "<div>\n",
       "<style scoped>\n",
       "    .dataframe tbody tr th:only-of-type {\n",
       "        vertical-align: middle;\n",
       "    }\n",
       "\n",
       "    .dataframe tbody tr th {\n",
       "        vertical-align: top;\n",
       "    }\n",
       "\n",
       "    .dataframe thead th {\n",
       "        text-align: right;\n",
       "    }\n",
       "</style>\n",
       "<table border=\"1\" class=\"dataframe\">\n",
       "  <thead>\n",
       "    <tr style=\"text-align: right;\">\n",
       "      <th></th>\n",
       "      <th>year</th>\n",
       "      <th>month</th>\n",
       "      <th>carrier</th>\n",
       "      <th>airport</th>\n",
       "    </tr>\n",
       "  </thead>\n",
       "  <tbody>\n",
       "    <tr>\n",
       "      <th>0</th>\n",
       "      <td>0.0</td>\n",
       "      <td>0.5</td>\n",
       "      <td>1</td>\n",
       "      <td>2</td>\n",
       "    </tr>\n",
       "    <tr>\n",
       "      <th>1</th>\n",
       "      <td>0.0</td>\n",
       "      <td>0.5</td>\n",
       "      <td>1</td>\n",
       "      <td>17</td>\n",
       "    </tr>\n",
       "    <tr>\n",
       "      <th>2</th>\n",
       "      <td>0.0</td>\n",
       "      <td>0.5</td>\n",
       "      <td>1</td>\n",
       "      <td>22</td>\n",
       "    </tr>\n",
       "    <tr>\n",
       "      <th>3</th>\n",
       "      <td>0.0</td>\n",
       "      <td>0.5</td>\n",
       "      <td>1</td>\n",
       "      <td>24</td>\n",
       "    </tr>\n",
       "    <tr>\n",
       "      <th>4</th>\n",
       "      <td>0.0</td>\n",
       "      <td>0.5</td>\n",
       "      <td>1</td>\n",
       "      <td>29</td>\n",
       "    </tr>\n",
       "  </tbody>\n",
       "</table>\n",
       "</div>"
      ],
      "text/plain": [
       "   year  month  carrier  airport\n",
       "0   0.0    0.5        1        2\n",
       "1   0.0    0.5        1       17\n",
       "2   0.0    0.5        1       22\n",
       "3   0.0    0.5        1       24\n",
       "4   0.0    0.5        1       29"
      ]
     },
     "execution_count": 49,
     "metadata": {},
     "output_type": "execute_result"
    }
   ],
   "source": [
    "y = data_ML['class']\n",
    "X = data_ML.drop(['arr_flights','arr_del15','delay_rate','class'], axis=1)\n",
    "\n",
    "X.head()"
   ]
  },
  {
   "cell_type": "code",
   "execution_count": 50,
   "metadata": {
    "collapsed": true
   },
   "outputs": [],
   "source": [
    "X_train,X_test, y_train, y_test = train_test_split(X, y, test_size=0.2)"
   ]
  },
  {
   "cell_type": "code",
   "execution_count": 51,
   "metadata": {
    "collapsed": false
   },
   "outputs": [
    {
     "name": "stdout",
     "output_type": "stream",
     "text": [
      "confusion matrix: \n",
      " [[19976  7177]\n",
      " [ 8745 15276]]\n",
      "              precision    recall  f1-score   support\n",
      "\n",
      "           0       0.70      0.74      0.72     27153\n",
      "           1       0.68      0.64      0.66     24021\n",
      "\n",
      "    accuracy                           0.69     51174\n",
      "   macro avg       0.69      0.69      0.69     51174\n",
      "weighted avg       0.69      0.69      0.69     51174\n",
      "\n"
     ]
    }
   ],
   "source": [
    "DT = DecisionTreeClassifier(min_samples_split=3,random_state=20)\n",
    "DT.fit(X_train,y_train)\n",
    "y_pred =DT.predict(X_test)\n",
    "fpr_dt, tpr_dt, _ = roc_curve(y_test, y_pred)\n",
    "\n",
    "print(\"confusion matrix: \\n\", confusion_matrix(y_test,y_pred))\n",
    "print(classification_report(y_test,y_pred))"
   ]
  },
  {
   "cell_type": "code",
   "execution_count": 52,
   "metadata": {
    "collapsed": false
   },
   "outputs": [
    {
     "name": "stdout",
     "output_type": "stream",
     "text": [
      "confusion matrix: \n",
      " [[18734  8419]\n",
      " [ 8363 15658]]\n",
      "              precision    recall  f1-score   support\n",
      "\n",
      "           0       0.69      0.69      0.69     27153\n",
      "           1       0.65      0.65      0.65     24021\n",
      "\n",
      "    accuracy                           0.67     51174\n",
      "   macro avg       0.67      0.67      0.67     51174\n",
      "weighted avg       0.67      0.67      0.67     51174\n",
      "\n"
     ]
    }
   ],
   "source": [
    "rf_model = RandomForestClassifier(n_estimators=200, random_state=20,oob_score=True)\n",
    "rf_model.fit(X_train,y_train)\n",
    "y_pred = rf_model.predict(X_test)\n",
    "fpr_rf, tpr_rf, _ = roc_curve(y_test, y_pred)\n",
    "\n",
    "print(\"confusion matrix: \\n\", confusion_matrix(y_test,y_pred))\n",
    "print(classification_report(y_test,y_pred))"
   ]
  },
  {
   "cell_type": "code",
   "execution_count": 53,
   "metadata": {
    "collapsed": false
   },
   "outputs": [
    {
     "data": {
      "image/png": "[encoded data removed]",
      "text/plain": [
       "<Figure size 576x360 with 1 Axes>"
      ]
     },
     "metadata": {
      "needs_background": "light"
     },
     "output_type": "display_data"
    }
   ],
   "source": [
    "importances = rf_model.feature_importances_\n",
    "important_list = {}\n",
    "for i in np.argsort(importances)[::-1]:\n",
    "    important_list[X.columns[i]] = importances[i]\n",
    "    \n",
    "fig, ax = plt.subplots(figsize=(8, 5))\n",
    "pd.Series(important_list)[::-1].plot(kind='barh',ax=ax)\n",
    "plt.show()"
   ]
  },
  {
   "cell_type": "code",
   "execution_count": null,
   "metadata": {
    "collapsed": true
   },
   "outputs": [],
   "source": []
  }
 ],
 "metadata": {
  "kernelspec": {
   "display_name": "Python 3",
   "language": "python",
   "name": "python3"
  },
  "language_info": {
   "codemirror_mode": {
    "name": "ipython",
    "version": 3
   },
   "file_extension": ".py",
   "mimetype": "text/x-python",
   "name": "python",
   "nbconvert_exporter": "python",
   "pygments_lexer": "ipython3",
   "version": "3.7.3"
  }
 },
 "nbformat": 4,
 "nbformat_minor": 2
}
